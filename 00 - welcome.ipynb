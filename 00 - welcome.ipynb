{
 "cells": [
  {
   "cell_type": "markdown",
   "metadata": {
    "editable": true,
    "slideshow": {
     "slide_type": "slide"
    },
    "tags": []
   },
   "source": [
    "# Welcome to the Workshop: Agentic AI with DeepSeek\n",
    "\n",
    "## Outline\n",
    "\n",
    "- Introduction\n",
    "  - Who am I \n",
    "  - Workshop material\n",
    "  - Setup and test\n",
    "- DeepSeek and tool calling 101\n",
    "- Agents vs. Workflows\n",
    "- Creating a tool calling agent\n",
    "- Conclusion"
   ]
  },
  {
   "cell_type": "markdown",
   "metadata": {
    "editable": true,
    "slideshow": {
     "slide_type": "skip"
    },
    "tags": []
   },
   "source": [
    "## Notebooks: \n",
    "\n",
    "1. [deepseek-tool-calling-101.ipynb](./01%20-%20deepseek-tool-calling-101.ipynb)\n",
    "2. [agents-vs-workflows.ipynb](./02%20-%20agents-vs-workflows.ipynb)\n",
    "3. [tool-calling-agent.ipynb](./03%20-%20tool-calling-agent.ipynb)"
   ]
  },
  {
   "attachments": {},
   "cell_type": "markdown",
   "metadata": {
    "editable": true,
    "slideshow": {
     "slide_type": "slide"
    },
    "tags": []
   },
   "source": [
    "## Introduction\n",
    "\n",
    "### Who am I?\n",
    "\n",
    "|  |  |\n",
    "|--------|------|\n",
    "| ![Duarte Carmo](assets/duarte.png) | **Duarte Carmo**<br><br>I'm a technologist, born and raised in sunny Lisbon, now based in Copenhagen. My work lies in the intersection of Machine Learning & AI, Data, Software, and People. I'm in love with Technology, and how it can improve people's lives.<br><br>In the past, I've worked in Consumer Electronics, Public Institutions, Big Three Management Consulting, and YC-backed startups. The common thread? Solving hard problems end-to-end.<br><br>Email: [me@duarteocarmo.com](mailto:me@duarteocarmo.com)<br>LinkedIn: [https://www.linkedin.com/in/duarteocarmo](https://www.linkedin.com/in/duarteocarmo) |"
   ]
  },
  {
   "cell_type": "markdown",
   "metadata": {
    "editable": true,
    "slideshow": {
     "slide_type": "subslide"
    },
    "tags": []
   },
   "source": [
    "## Setup\n",
    "\n",
    "To use DeepSeek, get an API key:\n",
    "1. Visit https://platform.deepseek.com/usage\n",
    "2. Set up billing\n",
    "3. Create a new API key\n",
    "4. Put the api key in the `api_keys.env` file as `DEEPSEEK_API_KEY=sk-XXXXXXX` \n",
    "5. Make sure you can run the cells below"
   ]
  },
  {
   "cell_type": "code",
   "execution_count": null,
   "metadata": {},
   "outputs": [],
   "source": [
    "import os\n",
    "from dotenv import load_dotenv\n",
    "import jupyter_black\n",
    "\n",
    "jupyter_black.load()\n",
    "\n",
    "\n",
    "load_dotenv(dotenv_path=\"api_keys.env\")\n",
    "\n",
    "API_KEY = os.getenv(\"DEEPSEEK_API_KEY\")\n",
    "BASE_URL = \"https://api.deepseek.com\"\n",
    "MODEL = \"deepseek-chat\"\n",
    "\n",
    "assert len(API_KEY) > 0, \"API_KEY is not set\""
   ]
  },
  {
   "cell_type": "code",
   "execution_count": 2,
   "metadata": {},
   "outputs": [
    {
     "name": "stdout",
     "output_type": "stream",
     "text": [
      "In the context of artificial intelligence (AI) and computer science, **agents** are autonomous entities that perceive their environment through sensors, process information, and take actions to achieve specific goals using actuators. They can range from simple rule-based systems to complex AI models like large language models (LLMs) or robotics systems.\n",
      "\n",
      "### Key Characteristics of Agents:\n",
      "1. **Autonomy**: Operate without direct human intervention.\n",
      "2. **Perception**: Use sensors (or data inputs) to observe their environment.\n",
      "3. **Decision-Making**: Apply logic, rules, or machine learning to choose actions.\n",
      "4. **Action**: Execute tasks via actuators (e.g., APIs, robotic limbs, or text outputs).\n",
      "5. **Goal-Directed**: Aim to achieve objectives, whether predefined (e.g., a chatbot answering questions) or learned (e.g., a reinforcement learning agent).\n",
      "\n",
      "---\n",
      "\n",
      "### Types of Agents:\n",
      "1. **Simple Reflex Agents**:  \n",
      "   - React to current percepts (e.g.,\n"
     ]
    }
   ],
   "source": [
    "from openai import OpenAI\n",
    "\n",
    "client = OpenAI(api_key=API_KEY, base_url=BASE_URL)\n",
    "response = client.chat.completions.create(\n",
    "    model=MODEL,\n",
    "    messages=[{\"role\": \"user\", \"content\": \"What are agents?\"}],\n",
    "    temperature=0.0,\n",
    "    max_tokens=200,\n",
    ")\n",
    "\n",
    "print(response.choices[0].message.content)"
   ]
  },
  {
   "cell_type": "markdown",
   "metadata": {},
   "source": [
    "Great, now we are ready to get started!"
   ]
  }
 ],
 "metadata": {
  "kernelspec": {
   "display_name": ".venv",
   "language": "python",
   "name": "python3"
  },
  "language_info": {
   "codemirror_mode": {
    "name": "ipython",
    "version": 3
   },
   "file_extension": ".py",
   "mimetype": "text/x-python",
   "name": "python",
   "nbconvert_exporter": "python",
   "pygments_lexer": "ipython3",
   "version": "3.12.6"
  }
 },
 "nbformat": 4,
 "nbformat_minor": 4
}
